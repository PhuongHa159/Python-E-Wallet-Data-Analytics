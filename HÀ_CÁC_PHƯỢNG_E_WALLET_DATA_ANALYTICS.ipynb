{
  "nbformat": 4,
  "nbformat_minor": 0,
  "metadata": {
    "colab": {
      "provenance": [],
      "authorship_tag": "ABX9TyP+pYMQqFjvcEavGMRj7BIy",
      "include_colab_link": true
    },
    "kernelspec": {
      "name": "python3",
      "display_name": "Python 3"
    },
    "language_info": {
      "name": "python"
    }
  },
  "cells": [
    {
      "cell_type": "markdown",
      "metadata": {
        "id": "view-in-github",
        "colab_type": "text"
      },
      "source": [
        "<a href=\"https://colab.research.google.com/github/PhuongHa159/Python-E-Wallet-Data-Analytics/blob/main/H%C3%80_C%C3%81C_PH%C6%AF%E1%BB%A2NG_E_WALLET_DATA_ANALYTICS.ipynb\" target=\"_parent\"><img src=\"https://colab.research.google.com/assets/colab-badge.svg\" alt=\"Open In Colab\"/></a>"
      ]
    },
    {
      "cell_type": "code",
      "execution_count": null,
      "metadata": {
        "colab": {
          "base_uri": "https://localhost:8080/",
          "height": 142
        },
        "id": "aAmDquLn6yOk",
        "outputId": "b1361c9a-1d5c-4474-b4ab-1d7d60b3a6a1"
      },
      "outputs": [
        {
          "output_type": "display_data",
          "data": {
            "text/plain": [
              "<IPython.core.display.HTML object>"
            ],
            "text/html": [
              "\n",
              "     <input type=\"file\" id=\"files-36870346-5a73-4497-ad40-ff23d1a643e2\" name=\"files[]\" multiple disabled\n",
              "        style=\"border:none\" />\n",
              "     <output id=\"result-36870346-5a73-4497-ad40-ff23d1a643e2\">\n",
              "      Upload widget is only available when the cell has been executed in the\n",
              "      current browser session. Please rerun this cell to enable.\n",
              "      </output>\n",
              "      <script>// Copyright 2017 Google LLC\n",
              "//\n",
              "// Licensed under the Apache License, Version 2.0 (the \"License\");\n",
              "// you may not use this file except in compliance with the License.\n",
              "// You may obtain a copy of the License at\n",
              "//\n",
              "//      http://www.apache.org/licenses/LICENSE-2.0\n",
              "//\n",
              "// Unless required by applicable law or agreed to in writing, software\n",
              "// distributed under the License is distributed on an \"AS IS\" BASIS,\n",
              "// WITHOUT WARRANTIES OR CONDITIONS OF ANY KIND, either express or implied.\n",
              "// See the License for the specific language governing permissions and\n",
              "// limitations under the License.\n",
              "\n",
              "/**\n",
              " * @fileoverview Helpers for google.colab Python module.\n",
              " */\n",
              "(function(scope) {\n",
              "function span(text, styleAttributes = {}) {\n",
              "  const element = document.createElement('span');\n",
              "  element.textContent = text;\n",
              "  for (const key of Object.keys(styleAttributes)) {\n",
              "    element.style[key] = styleAttributes[key];\n",
              "  }\n",
              "  return element;\n",
              "}\n",
              "\n",
              "// Max number of bytes which will be uploaded at a time.\n",
              "const MAX_PAYLOAD_SIZE = 100 * 1024;\n",
              "\n",
              "function _uploadFiles(inputId, outputId) {\n",
              "  const steps = uploadFilesStep(inputId, outputId);\n",
              "  const outputElement = document.getElementById(outputId);\n",
              "  // Cache steps on the outputElement to make it available for the next call\n",
              "  // to uploadFilesContinue from Python.\n",
              "  outputElement.steps = steps;\n",
              "\n",
              "  return _uploadFilesContinue(outputId);\n",
              "}\n",
              "\n",
              "// This is roughly an async generator (not supported in the browser yet),\n",
              "// where there are multiple asynchronous steps and the Python side is going\n",
              "// to poll for completion of each step.\n",
              "// This uses a Promise to block the python side on completion of each step,\n",
              "// then passes the result of the previous step as the input to the next step.\n",
              "function _uploadFilesContinue(outputId) {\n",
              "  const outputElement = document.getElementById(outputId);\n",
              "  const steps = outputElement.steps;\n",
              "\n",
              "  const next = steps.next(outputElement.lastPromiseValue);\n",
              "  return Promise.resolve(next.value.promise).then((value) => {\n",
              "    // Cache the last promise value to make it available to the next\n",
              "    // step of the generator.\n",
              "    outputElement.lastPromiseValue = value;\n",
              "    return next.value.response;\n",
              "  });\n",
              "}\n",
              "\n",
              "/**\n",
              " * Generator function which is called between each async step of the upload\n",
              " * process.\n",
              " * @param {string} inputId Element ID of the input file picker element.\n",
              " * @param {string} outputId Element ID of the output display.\n",
              " * @return {!Iterable<!Object>} Iterable of next steps.\n",
              " */\n",
              "function* uploadFilesStep(inputId, outputId) {\n",
              "  const inputElement = document.getElementById(inputId);\n",
              "  inputElement.disabled = false;\n",
              "\n",
              "  const outputElement = document.getElementById(outputId);\n",
              "  outputElement.innerHTML = '';\n",
              "\n",
              "  const pickedPromise = new Promise((resolve) => {\n",
              "    inputElement.addEventListener('change', (e) => {\n",
              "      resolve(e.target.files);\n",
              "    });\n",
              "  });\n",
              "\n",
              "  const cancel = document.createElement('button');\n",
              "  inputElement.parentElement.appendChild(cancel);\n",
              "  cancel.textContent = 'Cancel upload';\n",
              "  const cancelPromise = new Promise((resolve) => {\n",
              "    cancel.onclick = () => {\n",
              "      resolve(null);\n",
              "    };\n",
              "  });\n",
              "\n",
              "  // Wait for the user to pick the files.\n",
              "  const files = yield {\n",
              "    promise: Promise.race([pickedPromise, cancelPromise]),\n",
              "    response: {\n",
              "      action: 'starting',\n",
              "    }\n",
              "  };\n",
              "\n",
              "  cancel.remove();\n",
              "\n",
              "  // Disable the input element since further picks are not allowed.\n",
              "  inputElement.disabled = true;\n",
              "\n",
              "  if (!files) {\n",
              "    return {\n",
              "      response: {\n",
              "        action: 'complete',\n",
              "      }\n",
              "    };\n",
              "  }\n",
              "\n",
              "  for (const file of files) {\n",
              "    const li = document.createElement('li');\n",
              "    li.append(span(file.name, {fontWeight: 'bold'}));\n",
              "    li.append(span(\n",
              "        `(${file.type || 'n/a'}) - ${file.size} bytes, ` +\n",
              "        `last modified: ${\n",
              "            file.lastModifiedDate ? file.lastModifiedDate.toLocaleDateString() :\n",
              "                                    'n/a'} - `));\n",
              "    const percent = span('0% done');\n",
              "    li.appendChild(percent);\n",
              "\n",
              "    outputElement.appendChild(li);\n",
              "\n",
              "    const fileDataPromise = new Promise((resolve) => {\n",
              "      const reader = new FileReader();\n",
              "      reader.onload = (e) => {\n",
              "        resolve(e.target.result);\n",
              "      };\n",
              "      reader.readAsArrayBuffer(file);\n",
              "    });\n",
              "    // Wait for the data to be ready.\n",
              "    let fileData = yield {\n",
              "      promise: fileDataPromise,\n",
              "      response: {\n",
              "        action: 'continue',\n",
              "      }\n",
              "    };\n",
              "\n",
              "    // Use a chunked sending to avoid message size limits. See b/62115660.\n",
              "    let position = 0;\n",
              "    do {\n",
              "      const length = Math.min(fileData.byteLength - position, MAX_PAYLOAD_SIZE);\n",
              "      const chunk = new Uint8Array(fileData, position, length);\n",
              "      position += length;\n",
              "\n",
              "      const base64 = btoa(String.fromCharCode.apply(null, chunk));\n",
              "      yield {\n",
              "        response: {\n",
              "          action: 'append',\n",
              "          file: file.name,\n",
              "          data: base64,\n",
              "        },\n",
              "      };\n",
              "\n",
              "      let percentDone = fileData.byteLength === 0 ?\n",
              "          100 :\n",
              "          Math.round((position / fileData.byteLength) * 100);\n",
              "      percent.textContent = `${percentDone}% done`;\n",
              "\n",
              "    } while (position < fileData.byteLength);\n",
              "  }\n",
              "\n",
              "  // All done.\n",
              "  yield {\n",
              "    response: {\n",
              "      action: 'complete',\n",
              "    }\n",
              "  };\n",
              "}\n",
              "\n",
              "scope.google = scope.google || {};\n",
              "scope.google.colab = scope.google.colab || {};\n",
              "scope.google.colab._files = {\n",
              "  _uploadFiles,\n",
              "  _uploadFilesContinue,\n",
              "};\n",
              "})(self);\n",
              "</script> "
            ]
          },
          "metadata": {}
        },
        {
          "output_type": "stream",
          "name": "stdout",
          "text": [
            "Saving transactions.csv to transactions.csv\n",
            "Saving product.csv to product.csv\n",
            "Saving payment_report.csv to payment_report.csv\n"
          ]
        }
      ],
      "source": [
        "from google.colab import files\n",
        "uploaded = files.upload()"
      ]
    },
    {
      "cell_type": "code",
      "source": [
        "import pandas as pd\n",
        "  #import file to DataFrame\n",
        "transactions = pd.read_csv(\"transactions.csv\")\n",
        "product = pd.read_csv(\"product.csv\")\n",
        "payment_report = pd.read_csv(\"payment_report.csv\")\n",
        "\n",
        "  #Df payment_enriched (Merge payment_report.csv with product.csv)\n",
        "payment_enriched = pd.merge_ordered(payment_report,product,on = 'product_id',how=\"left\")\n",
        "\n",
        "df_pay=pd.DataFrame(payment_enriched)\n",
        "df_trans=pd.DataFrame(transactions)"
      ],
      "metadata": {
        "id": "0-0jc5sZ8pdA"
      },
      "execution_count": null,
      "outputs": []
    },
    {
      "cell_type": "code",
      "source": [
        "df_pay.info()"
      ],
      "metadata": {
        "colab": {
          "base_uri": "https://localhost:8080/"
        },
        "id": "iI26fEEk8wvM",
        "outputId": "721745bf-900a-46af-b2ab-894ed6189d8e"
      },
      "execution_count": null,
      "outputs": [
        {
          "output_type": "stream",
          "name": "stdout",
          "text": [
            "<class 'pandas.core.frame.DataFrame'>\n",
            "RangeIndex: 919 entries, 0 to 918\n",
            "Data columns (total 7 columns):\n",
            " #   Column         Non-Null Count  Dtype \n",
            "---  ------         --------------  ----- \n",
            " 0   report_month   919 non-null    object\n",
            " 1   payment_group  919 non-null    object\n",
            " 2   product_id     919 non-null    int64 \n",
            " 3   source_id      919 non-null    int64 \n",
            " 4   volume         919 non-null    int64 \n",
            " 5   category       897 non-null    object\n",
            " 6   team_own       897 non-null    object\n",
            "dtypes: int64(3), object(4)\n",
            "memory usage: 50.4+ KB\n"
          ]
        }
      ]
    },
    {
      "cell_type": "code",
      "source": [
        "df_trans.info()"
      ],
      "metadata": {
        "colab": {
          "base_uri": "https://localhost:8080/"
        },
        "id": "Uof8njIu9gS4",
        "outputId": "0a8d24a0-8274-4548-e990-c0b03c376a2d"
      },
      "execution_count": null,
      "outputs": [
        {
          "output_type": "stream",
          "name": "stdout",
          "text": [
            "<class 'pandas.core.frame.DataFrame'>\n",
            "RangeIndex: 1324002 entries, 0 to 1324001\n",
            "Data columns (total 9 columns):\n",
            " #   Column          Non-Null Count    Dtype  \n",
            "---  ------          --------------    -----  \n",
            " 0   transaction_id  1324002 non-null  int64  \n",
            " 1   merchant_id     1324002 non-null  int64  \n",
            " 2   volume          1324002 non-null  int64  \n",
            " 3   transType       1324002 non-null  int64  \n",
            " 4   transStatus     1324002 non-null  int64  \n",
            " 5   sender_id       1274943 non-null  float64\n",
            " 6   receiver_id     1159207 non-null  float64\n",
            " 7   extra_info      6095 non-null     object \n",
            " 8   timeStamp       1324002 non-null  int64  \n",
            "dtypes: float64(2), int64(6), object(1)\n",
            "memory usage: 90.9+ MB\n"
          ]
        }
      ]
    },
    {
      "cell_type": "markdown",
      "source": [
        "#PART 1: EDA\n",
        "##Check each column: missing data? duplicates? incorrect data types?\n",
        "###Payment_enriched"
      ],
      "metadata": {
        "id": "uEFuj0p-AWk1"
      }
    },
    {
      "cell_type": "code",
      "source": [
        "    # check missing data\n",
        "print(df_pay.isna().sum())"
      ],
      "metadata": {
        "colab": {
          "base_uri": "https://localhost:8080/"
        },
        "id": "7NopI-X-9WQM",
        "outputId": "6a5473d4-aeb4-4d4d-9fb1-6fa5c0193bce"
      },
      "execution_count": null,
      "outputs": [
        {
          "output_type": "stream",
          "name": "stdout",
          "text": [
            "report_month      0\n",
            "payment_group     0\n",
            "product_id        0\n",
            "source_id         0\n",
            "volume            0\n",
            "category         22\n",
            "team_own         22\n",
            "dtype: int64\n"
          ]
        }
      ]
    },
    {
      "cell_type": "code",
      "source": [
        "#dropping missing value\n",
        "threshold_pay=len(df_pay) *0.05\n",
        "cols_to_drop=df_pay.columns[(df_pay.isna().sum() > 0) & (df_pay.isna().sum() < threshold_pay)]\n",
        "df_pay.dropna(subset=cols_to_drop,inplace=True)\n",
        "print(df_pay.isna().sum())"
      ],
      "metadata": {
        "colab": {
          "base_uri": "https://localhost:8080/"
        },
        "id": "FbAaqMnQ-4br",
        "outputId": "eb169bca-0183-4f8f-87a6-cbd4e6434994"
      },
      "execution_count": null,
      "outputs": [
        {
          "output_type": "stream",
          "name": "stdout",
          "text": [
            "report_month     0\n",
            "payment_group    0\n",
            "product_id       0\n",
            "source_id        0\n",
            "volume           0\n",
            "category         0\n",
            "team_own         0\n",
            "dtype: int64\n"
          ]
        }
      ]
    },
    {
      "cell_type": "code",
      "source": [
        "# duplicate?\n",
        "duplicates = df_pay.duplicated().sum()\n",
        "print(\"Duplicate in Payment enriched:\",duplicates)"
      ],
      "metadata": {
        "colab": {
          "base_uri": "https://localhost:8080/"
        },
        "id": "AlcVDwXk_Tnt",
        "outputId": "e898ad43-3ca9-42fe-a657-5bfdb9f647ea"
      },
      "execution_count": null,
      "outputs": [
        {
          "output_type": "stream",
          "name": "stdout",
          "text": [
            "Duplicate in Payment enriched: 0\n"
          ]
        }
      ]
    },
    {
      "cell_type": "code",
      "source": [
        "#incorrect data types?\n",
        "print(df_pay.dtypes)\n",
        "df_pay[\"report_month\"] = pd.to_datetime(df_pay['report_month'], format='%Y-%m')\n",
        "print(df_pay.dtypes)"
      ],
      "metadata": {
        "colab": {
          "base_uri": "https://localhost:8080/"
        },
        "id": "PEihsPeI_fxk",
        "outputId": "87a3d4f5-46e4-44af-fef8-17bb5f324061"
      },
      "execution_count": null,
      "outputs": [
        {
          "output_type": "stream",
          "name": "stdout",
          "text": [
            "report_month     datetime64[ns]\n",
            "payment_group            object\n",
            "product_id                int64\n",
            "source_id                 int64\n",
            "volume                    int64\n",
            "category                 object\n",
            "team_own                 object\n",
            "dtype: object\n",
            "report_month     datetime64[ns]\n",
            "payment_group            object\n",
            "product_id                int64\n",
            "source_id                 int64\n",
            "volume                    int64\n",
            "category                 object\n",
            "team_own                 object\n",
            "dtype: object\n"
          ]
        }
      ]
    },
    {
      "cell_type": "code",
      "source": [
        "    #check outliner\n",
        "def find_outliers_iqr(df_pay):\n",
        "  outliers = pd.DataFrame()\n",
        "for column in df_pay.select_dtypes(include=['int']).columns:\n",
        "        Q1 = df_pay[column].quantile(0.25)\n",
        "        Q3 = df_pay[column].quantile(0.75)\n",
        "        IQR = Q3 - Q1\n",
        "      # Lọc các giá trị bất thường và thêm vào DataFrame kết quả\n",
        "        outliers_column = df_pay[(df_pay[column] < (Q1 - 1.5 * IQR)) | (df_pay[column] > (Q3 + 1.5 * IQR))]\n",
        "      # Gọi hàm để tìm các giá trị bất thường\n",
        "outliers = find_outliers_iqr(df_pay)\n",
        "print(\"Outlier in Payment_enriched:\",outliers)"
      ],
      "metadata": {
        "colab": {
          "base_uri": "https://localhost:8080/"
        },
        "id": "-Ydlj8Hr__lc",
        "outputId": "afc3cfdb-c7cd-456a-e321-7def232d202b"
      },
      "execution_count": null,
      "outputs": [
        {
          "output_type": "stream",
          "name": "stdout",
          "text": [
            "Outlier in Payment_enriched: None\n"
          ]
        }
      ]
    },
    {
      "cell_type": "markdown",
      "source": [
        "###transactions"
      ],
      "metadata": {
        "id": "dQFrQCZ5AgOh"
      }
    },
    {
      "cell_type": "code",
      "source": [
        "  #check missing value\n",
        "print(df_trans.isna().sum())\n",
        "threshold_trans=len(df_trans)*0.05"
      ],
      "metadata": {
        "colab": {
          "base_uri": "https://localhost:8080/"
        },
        "id": "m2ZDhKRcAkhA",
        "outputId": "dfc43f90-23bb-4847-f729-2d272f7cd101"
      },
      "execution_count": null,
      "outputs": [
        {
          "output_type": "stream",
          "name": "stdout",
          "text": [
            "transaction_id          0\n",
            "merchant_id             0\n",
            "volume                  0\n",
            "transType               0\n",
            "transStatus             0\n",
            "sender_id           49059\n",
            "receiver_id        164795\n",
            "extra_info        1317907\n",
            "timeStamp               0\n",
            "dtype: int64\n"
          ]
        }
      ]
    },
    {
      "cell_type": "code",
      "source": [
        "#dropping missing value\n",
        "transactions_drop=df_trans.columns[(df_trans.isna().sum() > 0) & (df_trans.isna().sum() <= threshold_trans)]\n",
        "df_trans.dropna(subset=transactions_drop,inplace=True)\n",
        "df_trans.drop(columns=['extra_info'], inplace=True)\n",
        "print(df_trans.isna().sum())\n"
      ],
      "metadata": {
        "colab": {
          "base_uri": "https://localhost:8080/"
        },
        "id": "D0NgNI7bA0uL",
        "outputId": "bccdd4d6-63e8-4618-c38b-b4f22e1f987c"
      },
      "execution_count": null,
      "outputs": [
        {
          "output_type": "stream",
          "name": "stdout",
          "text": [
            "transaction_id         0\n",
            "merchant_id            0\n",
            "volume                 0\n",
            "transType              0\n",
            "transStatus            0\n",
            "sender_id              0\n",
            "receiver_id       162208\n",
            "timeStamp              0\n",
            "dtype: int64\n"
          ]
        }
      ]
    },
    {
      "cell_type": "code",
      "source": [
        "  #Imputing data\n",
        "cols_to_impute=df_trans.columns[df_trans.isna().sum() > threshold_trans]\n",
        "for col in cols_to_impute:\n",
        "  df_trans[col] = df_trans[col].fillna(df_trans[col].mode()[0])\n",
        "print(df_trans.isna().sum())"
      ],
      "metadata": {
        "colab": {
          "base_uri": "https://localhost:8080/"
        },
        "id": "CpZwYu4bBR1M",
        "outputId": "a3d35743-ecb3-4369-c336-46c0abc11fb0"
      },
      "execution_count": null,
      "outputs": [
        {
          "output_type": "stream",
          "name": "stdout",
          "text": [
            "transaction_id    0\n",
            "merchant_id       0\n",
            "volume            0\n",
            "transType         0\n",
            "transStatus       0\n",
            "sender_id         0\n",
            "receiver_id       0\n",
            "timeStamp         0\n",
            "dtype: int64\n"
          ]
        }
      ]
    },
    {
      "cell_type": "code",
      "source": [
        "# duplicate?\n",
        "duplicates = df_trans.duplicated().sum()\n",
        "print(\"Duplicates in transactions:\",duplicates)\n",
        "df_trans.drop_duplicates(keep='last')"
      ],
      "metadata": {
        "colab": {
          "base_uri": "https://localhost:8080/",
          "height": 441
        },
        "id": "j4loi4yMBWWA",
        "outputId": "7a61fa1d-0411-411d-afdc-7d2144eda6d2"
      },
      "execution_count": null,
      "outputs": [
        {
          "output_type": "stream",
          "name": "stdout",
          "text": [
            "Duplicates in transactions: 27\n"
          ]
        },
        {
          "output_type": "execute_result",
          "data": {
            "text/plain": [
              "         transaction_id  merchant_id   volume  transType  transStatus  \\\n",
              "0            3002692434            5   100000         24            1   \n",
              "1            3002692437          305    20000          2            1   \n",
              "3            3002680710         2270  1500000          2            1   \n",
              "4            3002680713         2275    90000          2            1   \n",
              "5            3002680716         2270   200000          2            1   \n",
              "...                 ...          ...      ...        ...          ...   \n",
              "1323997      3003723030          305    20000          2            1   \n",
              "1323998      3003723033         2270   100000          2            1   \n",
              "1323999      3003723036         2270   100000          2            1   \n",
              "1324000      3003723039            5      400         22            1   \n",
              "1324001      3003602967         2250        1          8            1   \n",
              "\n",
              "          sender_id  receiver_id      timeStamp  \n",
              "0        10199794.0     199794.0  1682932054455  \n",
              "1        14022211.0   14022211.0  1682932054912  \n",
              "3        10059206.0      59206.0  1682932055622  \n",
              "4        10004711.0       4711.0  1682932056197  \n",
              "5        10162232.0     162232.0  1682932056816  \n",
              "...             ...          ...            ...  \n",
              "1323997  24524311.0   10563903.0  1683035672634  \n",
              "1323998  10277242.0     277242.0  1683035672876  \n",
              "1323999  10144599.0     144599.0  1683035672892  \n",
              "1324000  10028007.0   21013762.0  1683035672896  \n",
              "1324001  38559843.0   24501638.0  1683035673053  \n",
              "\n",
              "[1274916 rows x 8 columns]"
            ],
            "text/html": [
              "\n",
              "  <div id=\"df-aa869a55-2e52-4e63-a421-3ac2145e9add\" class=\"colab-df-container\">\n",
              "    <div>\n",
              "<style scoped>\n",
              "    .dataframe tbody tr th:only-of-type {\n",
              "        vertical-align: middle;\n",
              "    }\n",
              "\n",
              "    .dataframe tbody tr th {\n",
              "        vertical-align: top;\n",
              "    }\n",
              "\n",
              "    .dataframe thead th {\n",
              "        text-align: right;\n",
              "    }\n",
              "</style>\n",
              "<table border=\"1\" class=\"dataframe\">\n",
              "  <thead>\n",
              "    <tr style=\"text-align: right;\">\n",
              "      <th></th>\n",
              "      <th>transaction_id</th>\n",
              "      <th>merchant_id</th>\n",
              "      <th>volume</th>\n",
              "      <th>transType</th>\n",
              "      <th>transStatus</th>\n",
              "      <th>sender_id</th>\n",
              "      <th>receiver_id</th>\n",
              "      <th>timeStamp</th>\n",
              "    </tr>\n",
              "  </thead>\n",
              "  <tbody>\n",
              "    <tr>\n",
              "      <th>0</th>\n",
              "      <td>3002692434</td>\n",
              "      <td>5</td>\n",
              "      <td>100000</td>\n",
              "      <td>24</td>\n",
              "      <td>1</td>\n",
              "      <td>10199794.0</td>\n",
              "      <td>199794.0</td>\n",
              "      <td>1682932054455</td>\n",
              "    </tr>\n",
              "    <tr>\n",
              "      <th>1</th>\n",
              "      <td>3002692437</td>\n",
              "      <td>305</td>\n",
              "      <td>20000</td>\n",
              "      <td>2</td>\n",
              "      <td>1</td>\n",
              "      <td>14022211.0</td>\n",
              "      <td>14022211.0</td>\n",
              "      <td>1682932054912</td>\n",
              "    </tr>\n",
              "    <tr>\n",
              "      <th>3</th>\n",
              "      <td>3002680710</td>\n",
              "      <td>2270</td>\n",
              "      <td>1500000</td>\n",
              "      <td>2</td>\n",
              "      <td>1</td>\n",
              "      <td>10059206.0</td>\n",
              "      <td>59206.0</td>\n",
              "      <td>1682932055622</td>\n",
              "    </tr>\n",
              "    <tr>\n",
              "      <th>4</th>\n",
              "      <td>3002680713</td>\n",
              "      <td>2275</td>\n",
              "      <td>90000</td>\n",
              "      <td>2</td>\n",
              "      <td>1</td>\n",
              "      <td>10004711.0</td>\n",
              "      <td>4711.0</td>\n",
              "      <td>1682932056197</td>\n",
              "    </tr>\n",
              "    <tr>\n",
              "      <th>5</th>\n",
              "      <td>3002680716</td>\n",
              "      <td>2270</td>\n",
              "      <td>200000</td>\n",
              "      <td>2</td>\n",
              "      <td>1</td>\n",
              "      <td>10162232.0</td>\n",
              "      <td>162232.0</td>\n",
              "      <td>1682932056816</td>\n",
              "    </tr>\n",
              "    <tr>\n",
              "      <th>...</th>\n",
              "      <td>...</td>\n",
              "      <td>...</td>\n",
              "      <td>...</td>\n",
              "      <td>...</td>\n",
              "      <td>...</td>\n",
              "      <td>...</td>\n",
              "      <td>...</td>\n",
              "      <td>...</td>\n",
              "    </tr>\n",
              "    <tr>\n",
              "      <th>1323997</th>\n",
              "      <td>3003723030</td>\n",
              "      <td>305</td>\n",
              "      <td>20000</td>\n",
              "      <td>2</td>\n",
              "      <td>1</td>\n",
              "      <td>24524311.0</td>\n",
              "      <td>10563903.0</td>\n",
              "      <td>1683035672634</td>\n",
              "    </tr>\n",
              "    <tr>\n",
              "      <th>1323998</th>\n",
              "      <td>3003723033</td>\n",
              "      <td>2270</td>\n",
              "      <td>100000</td>\n",
              "      <td>2</td>\n",
              "      <td>1</td>\n",
              "      <td>10277242.0</td>\n",
              "      <td>277242.0</td>\n",
              "      <td>1683035672876</td>\n",
              "    </tr>\n",
              "    <tr>\n",
              "      <th>1323999</th>\n",
              "      <td>3003723036</td>\n",
              "      <td>2270</td>\n",
              "      <td>100000</td>\n",
              "      <td>2</td>\n",
              "      <td>1</td>\n",
              "      <td>10144599.0</td>\n",
              "      <td>144599.0</td>\n",
              "      <td>1683035672892</td>\n",
              "    </tr>\n",
              "    <tr>\n",
              "      <th>1324000</th>\n",
              "      <td>3003723039</td>\n",
              "      <td>5</td>\n",
              "      <td>400</td>\n",
              "      <td>22</td>\n",
              "      <td>1</td>\n",
              "      <td>10028007.0</td>\n",
              "      <td>21013762.0</td>\n",
              "      <td>1683035672896</td>\n",
              "    </tr>\n",
              "    <tr>\n",
              "      <th>1324001</th>\n",
              "      <td>3003602967</td>\n",
              "      <td>2250</td>\n",
              "      <td>1</td>\n",
              "      <td>8</td>\n",
              "      <td>1</td>\n",
              "      <td>38559843.0</td>\n",
              "      <td>24501638.0</td>\n",
              "      <td>1683035673053</td>\n",
              "    </tr>\n",
              "  </tbody>\n",
              "</table>\n",
              "<p>1274916 rows × 8 columns</p>\n",
              "</div>\n",
              "    <div class=\"colab-df-buttons\">\n",
              "\n",
              "  <div class=\"colab-df-container\">\n",
              "    <button class=\"colab-df-convert\" onclick=\"convertToInteractive('df-aa869a55-2e52-4e63-a421-3ac2145e9add')\"\n",
              "            title=\"Convert this dataframe to an interactive table.\"\n",
              "            style=\"display:none;\">\n",
              "\n",
              "  <svg xmlns=\"http://www.w3.org/2000/svg\" height=\"24px\" viewBox=\"0 -960 960 960\">\n",
              "    <path d=\"M120-120v-720h720v720H120Zm60-500h600v-160H180v160Zm220 220h160v-160H400v160Zm0 220h160v-160H400v160ZM180-400h160v-160H180v160Zm440 0h160v-160H620v160ZM180-180h160v-160H180v160Zm440 0h160v-160H620v160Z\"/>\n",
              "  </svg>\n",
              "    </button>\n",
              "\n",
              "  <style>\n",
              "    .colab-df-container {\n",
              "      display:flex;\n",
              "      gap: 12px;\n",
              "    }\n",
              "\n",
              "    .colab-df-convert {\n",
              "      background-color: #E8F0FE;\n",
              "      border: none;\n",
              "      border-radius: 50%;\n",
              "      cursor: pointer;\n",
              "      display: none;\n",
              "      fill: #1967D2;\n",
              "      height: 32px;\n",
              "      padding: 0 0 0 0;\n",
              "      width: 32px;\n",
              "    }\n",
              "\n",
              "    .colab-df-convert:hover {\n",
              "      background-color: #E2EBFA;\n",
              "      box-shadow: 0px 1px 2px rgba(60, 64, 67, 0.3), 0px 1px 3px 1px rgba(60, 64, 67, 0.15);\n",
              "      fill: #174EA6;\n",
              "    }\n",
              "\n",
              "    .colab-df-buttons div {\n",
              "      margin-bottom: 4px;\n",
              "    }\n",
              "\n",
              "    [theme=dark] .colab-df-convert {\n",
              "      background-color: #3B4455;\n",
              "      fill: #D2E3FC;\n",
              "    }\n",
              "\n",
              "    [theme=dark] .colab-df-convert:hover {\n",
              "      background-color: #434B5C;\n",
              "      box-shadow: 0px 1px 3px 1px rgba(0, 0, 0, 0.15);\n",
              "      filter: drop-shadow(0px 1px 2px rgba(0, 0, 0, 0.3));\n",
              "      fill: #FFFFFF;\n",
              "    }\n",
              "  </style>\n",
              "\n",
              "    <script>\n",
              "      const buttonEl =\n",
              "        document.querySelector('#df-aa869a55-2e52-4e63-a421-3ac2145e9add button.colab-df-convert');\n",
              "      buttonEl.style.display =\n",
              "        google.colab.kernel.accessAllowed ? 'block' : 'none';\n",
              "\n",
              "      async function convertToInteractive(key) {\n",
              "        const element = document.querySelector('#df-aa869a55-2e52-4e63-a421-3ac2145e9add');\n",
              "        const dataTable =\n",
              "          await google.colab.kernel.invokeFunction('convertToInteractive',\n",
              "                                                    [key], {});\n",
              "        if (!dataTable) return;\n",
              "\n",
              "        const docLinkHtml = 'Like what you see? Visit the ' +\n",
              "          '<a target=\"_blank\" href=https://colab.research.google.com/notebooks/data_table.ipynb>data table notebook</a>'\n",
              "          + ' to learn more about interactive tables.';\n",
              "        element.innerHTML = '';\n",
              "        dataTable['output_type'] = 'display_data';\n",
              "        await google.colab.output.renderOutput(dataTable, element);\n",
              "        const docLink = document.createElement('div');\n",
              "        docLink.innerHTML = docLinkHtml;\n",
              "        element.appendChild(docLink);\n",
              "      }\n",
              "    </script>\n",
              "  </div>\n",
              "\n",
              "\n",
              "<div id=\"df-0575f2d9-2a5e-4b69-a9e8-de97d740a948\">\n",
              "  <button class=\"colab-df-quickchart\" onclick=\"quickchart('df-0575f2d9-2a5e-4b69-a9e8-de97d740a948')\"\n",
              "            title=\"Suggest charts\"\n",
              "            style=\"display:none;\">\n",
              "\n",
              "<svg xmlns=\"http://www.w3.org/2000/svg\" height=\"24px\"viewBox=\"0 0 24 24\"\n",
              "     width=\"24px\">\n",
              "    <g>\n",
              "        <path d=\"M19 3H5c-1.1 0-2 .9-2 2v14c0 1.1.9 2 2 2h14c1.1 0 2-.9 2-2V5c0-1.1-.9-2-2-2zM9 17H7v-7h2v7zm4 0h-2V7h2v10zm4 0h-2v-4h2v4z\"/>\n",
              "    </g>\n",
              "</svg>\n",
              "  </button>\n",
              "\n",
              "<style>\n",
              "  .colab-df-quickchart {\n",
              "      --bg-color: #E8F0FE;\n",
              "      --fill-color: #1967D2;\n",
              "      --hover-bg-color: #E2EBFA;\n",
              "      --hover-fill-color: #174EA6;\n",
              "      --disabled-fill-color: #AAA;\n",
              "      --disabled-bg-color: #DDD;\n",
              "  }\n",
              "\n",
              "  [theme=dark] .colab-df-quickchart {\n",
              "      --bg-color: #3B4455;\n",
              "      --fill-color: #D2E3FC;\n",
              "      --hover-bg-color: #434B5C;\n",
              "      --hover-fill-color: #FFFFFF;\n",
              "      --disabled-bg-color: #3B4455;\n",
              "      --disabled-fill-color: #666;\n",
              "  }\n",
              "\n",
              "  .colab-df-quickchart {\n",
              "    background-color: var(--bg-color);\n",
              "    border: none;\n",
              "    border-radius: 50%;\n",
              "    cursor: pointer;\n",
              "    display: none;\n",
              "    fill: var(--fill-color);\n",
              "    height: 32px;\n",
              "    padding: 0;\n",
              "    width: 32px;\n",
              "  }\n",
              "\n",
              "  .colab-df-quickchart:hover {\n",
              "    background-color: var(--hover-bg-color);\n",
              "    box-shadow: 0 1px 2px rgba(60, 64, 67, 0.3), 0 1px 3px 1px rgba(60, 64, 67, 0.15);\n",
              "    fill: var(--button-hover-fill-color);\n",
              "  }\n",
              "\n",
              "  .colab-df-quickchart-complete:disabled,\n",
              "  .colab-df-quickchart-complete:disabled:hover {\n",
              "    background-color: var(--disabled-bg-color);\n",
              "    fill: var(--disabled-fill-color);\n",
              "    box-shadow: none;\n",
              "  }\n",
              "\n",
              "  .colab-df-spinner {\n",
              "    border: 2px solid var(--fill-color);\n",
              "    border-color: transparent;\n",
              "    border-bottom-color: var(--fill-color);\n",
              "    animation:\n",
              "      spin 1s steps(1) infinite;\n",
              "  }\n",
              "\n",
              "  @keyframes spin {\n",
              "    0% {\n",
              "      border-color: transparent;\n",
              "      border-bottom-color: var(--fill-color);\n",
              "      border-left-color: var(--fill-color);\n",
              "    }\n",
              "    20% {\n",
              "      border-color: transparent;\n",
              "      border-left-color: var(--fill-color);\n",
              "      border-top-color: var(--fill-color);\n",
              "    }\n",
              "    30% {\n",
              "      border-color: transparent;\n",
              "      border-left-color: var(--fill-color);\n",
              "      border-top-color: var(--fill-color);\n",
              "      border-right-color: var(--fill-color);\n",
              "    }\n",
              "    40% {\n",
              "      border-color: transparent;\n",
              "      border-right-color: var(--fill-color);\n",
              "      border-top-color: var(--fill-color);\n",
              "    }\n",
              "    60% {\n",
              "      border-color: transparent;\n",
              "      border-right-color: var(--fill-color);\n",
              "    }\n",
              "    80% {\n",
              "      border-color: transparent;\n",
              "      border-right-color: var(--fill-color);\n",
              "      border-bottom-color: var(--fill-color);\n",
              "    }\n",
              "    90% {\n",
              "      border-color: transparent;\n",
              "      border-bottom-color: var(--fill-color);\n",
              "    }\n",
              "  }\n",
              "</style>\n",
              "\n",
              "  <script>\n",
              "    async function quickchart(key) {\n",
              "      const quickchartButtonEl =\n",
              "        document.querySelector('#' + key + ' button');\n",
              "      quickchartButtonEl.disabled = true;  // To prevent multiple clicks.\n",
              "      quickchartButtonEl.classList.add('colab-df-spinner');\n",
              "      try {\n",
              "        const charts = await google.colab.kernel.invokeFunction(\n",
              "            'suggestCharts', [key], {});\n",
              "      } catch (error) {\n",
              "        console.error('Error during call to suggestCharts:', error);\n",
              "      }\n",
              "      quickchartButtonEl.classList.remove('colab-df-spinner');\n",
              "      quickchartButtonEl.classList.add('colab-df-quickchart-complete');\n",
              "    }\n",
              "    (() => {\n",
              "      let quickchartButtonEl =\n",
              "        document.querySelector('#df-0575f2d9-2a5e-4b69-a9e8-de97d740a948 button');\n",
              "      quickchartButtonEl.style.display =\n",
              "        google.colab.kernel.accessAllowed ? 'block' : 'none';\n",
              "    })();\n",
              "  </script>\n",
              "</div>\n",
              "\n",
              "    </div>\n",
              "  </div>\n"
            ],
            "application/vnd.google.colaboratory.intrinsic+json": {
              "type": "dataframe"
            }
          },
          "metadata": {},
          "execution_count": 19
        }
      ]
    },
    {
      "cell_type": "code",
      "source": [
        "    #incorrect data types?\n",
        "print(df_trans.dtypes)\n",
        "df_trans[\"sender_id\"] = df_trans[\"sender_id\"].astype(int)\n",
        "df_trans[\"receiver_id\"] = df_trans[\"receiver_id\"].astype(int)\n",
        "print(df_trans.dtypes)"
      ],
      "metadata": {
        "colab": {
          "base_uri": "https://localhost:8080/"
        },
        "id": "-02bDyRDBb2W",
        "outputId": "6233980c-cb15-46b2-efb6-5b71d84de906"
      },
      "execution_count": null,
      "outputs": [
        {
          "output_type": "stream",
          "name": "stdout",
          "text": [
            "transaction_id      int64\n",
            "merchant_id         int64\n",
            "volume              int64\n",
            "transType           int64\n",
            "transStatus         int64\n",
            "sender_id         float64\n",
            "receiver_id       float64\n",
            "timeStamp           int64\n",
            "dtype: object\n",
            "transaction_id    int64\n",
            "merchant_id       int64\n",
            "volume            int64\n",
            "transType         int64\n",
            "transStatus       int64\n",
            "sender_id         int64\n",
            "receiver_id       int64\n",
            "timeStamp         int64\n",
            "dtype: object\n"
          ]
        }
      ]
    },
    {
      "cell_type": "code",
      "source": [
        "    #check outliner\n",
        "def find_outliers_iqr(df_trans):\n",
        "  outliers = pd.DataFrame()\n",
        "for column in df_trans.select_dtypes(include=['int']).columns:\n",
        "        Q1 = df_trans[column].quantile(0.25)\n",
        "        Q3 = df_trans[column].quantile(0.75)\n",
        "        IQR = Q3 - Q1\n",
        "      # Filter outlier and add to Dataframe\n",
        "        outliers_column = df_trans[(df_trans[column] < (Q1 - 1.5 * IQR)) | (df_trans[column] > (Q3 + 1.5 * IQR))]\n",
        "      # Find outlier\n",
        "outliers = find_outliers_iqr(df_trans)\n",
        "print(\"Outlier in transactions:\",outliers)"
      ],
      "metadata": {
        "colab": {
          "base_uri": "https://localhost:8080/"
        },
        "id": "tX0mSvv_BiZm",
        "outputId": "044bf3bc-c301-46a8-f2af-3415c30b0cea"
      },
      "execution_count": null,
      "outputs": [
        {
          "output_type": "stream",
          "name": "stdout",
          "text": [
            "Outlier in transactions: None\n"
          ]
        }
      ]
    },
    {
      "cell_type": "markdown",
      "source": [
        "#Part II: Data Wrangling"
      ],
      "metadata": {
        "id": "9622lJaoCmKO"
      }
    },
    {
      "cell_type": "code",
      "source": [
        "# 1. Top 3 product_ids with the highest volume\n",
        "top_three_product=payment_report.groupby(\"product_id\")[\"volume\"].sum().nlargest(3)\n",
        "\n",
        "print(\"Top 3 product_ids with the highest volume:\", top_three_product)\n"
      ],
      "metadata": {
        "colab": {
          "base_uri": "https://localhost:8080/"
        },
        "id": "I_xlxRU4DJG6",
        "outputId": "8ea1f922-0ce2-4859-e96a-eb7b898c815a"
      },
      "execution_count": null,
      "outputs": [
        {
          "output_type": "stream",
          "name": "stdout",
          "text": [
            "Top 3 product_ids with the highest volume: product_id\n",
            "1976    61797583647\n",
            "429     14667676567\n",
            "372     13713658515\n",
            "Name: volume, dtype: int64\n"
          ]
        }
      ]
    },
    {
      "cell_type": "code",
      "source": [
        "# 2. Given that 1 product_id is only owed by 1 team, are there any abnormal products against this rule?\n",
        "\n",
        "  # Find 1 product_id is only owed by 1 team\n",
        "abnormal_product = product.groupby(\"product_id\")[\"team_own\"].nunique()\n",
        "\n",
        "  # Find abnormal products against this rule\n",
        "abnormal_product = abnormal_product[abnormal_product > 1]\n",
        "\n",
        "print(\"Abnormal products against this rule:\",abnormal_product)"
      ],
      "metadata": {
        "colab": {
          "base_uri": "https://localhost:8080/"
        },
        "id": "p-WT8t_6DaAs",
        "outputId": "d0dff0a6-4a90-4425-c5cd-97c9ba40f896"
      },
      "execution_count": null,
      "outputs": [
        {
          "output_type": "stream",
          "name": "stdout",
          "text": [
            "Abnormal products against this rule: Series([], Name: team_own, dtype: int64)\n"
          ]
        }
      ]
    },
    {
      "cell_type": "code",
      "source": [
        "# 3. Find the team has had the lowest performance (lowest volume) since Q2.2023. Find the category that contributes the least to that team.\n",
        "  # Find data since Q2.2023\n",
        "payment_q2_2023 = payment_enriched[payment_enriched[\"report_month\"].isin(['2023-04', '2023-05', '2023-06'])]\n",
        "\n",
        "  # Find the team has had the lowest performance (lowest volume) since Q2.2023\n",
        "lowest_team=payment_q2_2023.groupby(\"team_own\")[\"volume\"].sum().idxmin()\n",
        "\n",
        "  # Find the category that contributes the least to that team.\n",
        "team_low = payment_q2_2023[payment_q2_2023[\"team_own\"] == lowest_team]\n",
        "least_category= team_low.groupby(\"category\")[\"volume\"].sum().idxmin()\n",
        "\n",
        "print(\"The team has had the lowest volume since Q2.2023:\", lowest_team)\n",
        "print(\"The category that contributes the least:\", least_category)"
      ],
      "metadata": {
        "colab": {
          "base_uri": "https://localhost:8080/"
        },
        "id": "IdEaLmU6Dth5",
        "outputId": "95a30b42-b894-4ef7-b10b-2f5eb174cfd8"
      },
      "execution_count": null,
      "outputs": [
        {
          "output_type": "stream",
          "name": "stdout",
          "text": [
            "The team has had the lowest volume since Q2.2023: APS\n",
            "The category that contributes the least: PXXXXXE\n"
          ]
        }
      ]
    },
    {
      "cell_type": "code",
      "source": [
        "# 4. Find the contribution of source_ids of refund transactions (payment_group = ‘refund’), what is the source_id with the highest contribution?\n",
        "\n",
        "  #Find refund transactions\n",
        "refund_transactions=payment_report[payment_report[\"payment_group\"]==\"refund\"]\n",
        "\n",
        "  #Find the contribution of source_ids of refund transactions\n",
        "source_id_contribution=refund_transactions.groupby(\"source_id\")[\"volume\"].sum()\n",
        "\n",
        "  #Find the source_id with the highest contribution\n",
        "highest_contribution=source_id_contribution.idxmax()\n",
        "\n",
        "print(\"The contribution of source_ids of refund transactions:\",source_id_contribution)\n",
        "print(\"The source_id with the highest contribution:\",highest_contribution)\n"
      ],
      "metadata": {
        "colab": {
          "base_uri": "https://localhost:8080/"
        },
        "id": "JxMPXYaqD51E",
        "outputId": "1fbc98e5-113a-4383-b266-83fc561a48e0"
      },
      "execution_count": null,
      "outputs": [
        {
          "output_type": "stream",
          "name": "stdout",
          "text": [
            "The contribution of source_ids of refund transactions: source_id\n",
            "37     9151069226\n",
            "38    36527454759\n",
            "39    16119059662\n",
            "Name: volume, dtype: int64\n",
            "The source_id with the highest contribution: 38\n"
          ]
        }
      ]
    },
    {
      "cell_type": "code",
      "source": [
        "# 5. Define type of transactions (‘transaction_type’) for each row\n",
        "def type_transactions(row):\n",
        "  if row[\"transType\"]==2 :\n",
        "    if row[\"merchant_id\"] == 1205 :\n",
        "      return \"Bank Transfer Transaction\"\n",
        "    elif row[\"merchant_id\"] == 2260 :\n",
        "      return \"Withdraw Money Transaction\"\n",
        "    elif row[\"merchant_id\"] == 2270 :\n",
        "      return \"Top Up Money Transaction\"\n",
        "    else:\n",
        "      return \"Payment Transaction\"\n",
        "  elif row[\"transType\"] == 8 :\n",
        "    if row[\"merchant_id\"] == 2250 :\n",
        "      return \"Transfer Money Transaction\"\n",
        "    else :\n",
        "      return \"Split Bill Transaction\"\n",
        "  else :\n",
        "    return \"Invalid transactions\"\n",
        "\n",
        "    #Apply transaction_type in transactions\n",
        "transactions['transaction_type'] = transactions.apply(type_transactions, axis=1)\n",
        "print(\"Transaction_type in transactions:\",transactions.head())"
      ],
      "metadata": {
        "colab": {
          "base_uri": "https://localhost:8080/"
        },
        "id": "66hifjsaEGZf",
        "outputId": "85357daf-3f7f-4068-dff3-6e30fe0bb1c5"
      },
      "execution_count": null,
      "outputs": [
        {
          "output_type": "stream",
          "name": "stdout",
          "text": [
            "Transaction_type in transactions:    transaction_id  merchant_id   volume  transType  transStatus   sender_id  \\\n",
            "0      3002692434            5   100000         24            1  10199794.0   \n",
            "1      3002692437          305    20000          2            1  14022211.0   \n",
            "2      3001960110         7255    48605         22            1         NaN   \n",
            "3      3002680710         2270  1500000          2            1  10059206.0   \n",
            "4      3002680713         2275    90000          2            1  10004711.0   \n",
            "\n",
            "   receiver_id extra_info      timeStamp          transaction_type  \n",
            "0     199794.0        NaN  1682932054455      Invalid transactions  \n",
            "1   14022211.0        NaN  1682932054912       Payment Transaction  \n",
            "2   10530940.0        NaN  1682932055000      Invalid transactions  \n",
            "3      59206.0        NaN  1682932055622  Top Up Money Transaction  \n",
            "4       4711.0        NaN  1682932056197       Payment Transaction  \n"
          ]
        }
      ]
    },
    {
      "cell_type": "code",
      "source": [
        "# 6. Of each transaction type (excluding invalid transactions): find the number of transactions, volume, senders and receivers.\n",
        "\n",
        "# Find valid_transaction(excluding invalid transactions)\n",
        "valid_transaction=transactions[transactions['transaction_type'] != 'Invalid transactions']\n",
        "\n",
        "# Find the number of transactions, volume, senders and receivers\n",
        "valid_transaction_describe = valid_transaction.groupby(\"transaction_type\").agg(\n",
        "    num_transaction=(\"transaction_id\",\"count\"),\n",
        "    sum_volume=(\"volume\",\"sum\"),\n",
        "    num_sender=(\"sender_id\",\"nunique\"),\n",
        "    num_receiver=(\"receiver_id\",\"nunique\")\n",
        ")\n",
        "print(\"The number of transactions, volume, senders and receivers:\",valid_transaction_describe)"
      ],
      "metadata": {
        "colab": {
          "base_uri": "https://localhost:8080/"
        },
        "id": "U6IlvNXJEoK8",
        "outputId": "fe119993-5944-4d7a-8cfe-06fdf3f24bb1"
      },
      "execution_count": null,
      "outputs": [
        {
          "output_type": "stream",
          "name": "stdout",
          "text": [
            "The number of transactions, volume, senders and receivers:                             num_transaction    sum_volume  num_sender  \\\n",
            "transaction_type                                                        \n",
            "Bank Transfer Transaction             37879   50605806190       23156   \n",
            "Payment Transaction                  398677   71851515181      139583   \n",
            "Split Bill Transaction                 1376       4901464        1323   \n",
            "Top Up Money Transaction             290502  108606478829      110409   \n",
            "Transfer Money Transaction           341177   37033171492       39021   \n",
            "Withdraw Money Transaction            33725   23418181420       24814   \n",
            "\n",
            "                            num_receiver  \n",
            "transaction_type                          \n",
            "Bank Transfer Transaction           9271  \n",
            "Payment Transaction               113298  \n",
            "Split Bill Transaction               572  \n",
            "Top Up Money Transaction          110409  \n",
            "Transfer Money Transaction         34585  \n",
            "Withdraw Money Transaction         24814  \n"
          ]
        }
      ]
    }
  ]
}